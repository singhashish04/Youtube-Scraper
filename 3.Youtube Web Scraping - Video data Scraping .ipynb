{
 "cells": [
  {
   "cell_type": "code",
   "execution_count": 44,
   "id": "9f762489",
   "metadata": {},
   "outputs": [],
   "source": [
    "import time\n",
    "from tqdm import tqdm\n",
    "\n",
    "import numpy as np\n",
    "import pandas as pd\n",
    "\n",
    "from selenium import webdriver\n",
    "from bs4 import BeautifulSoup"
   ]
  },
  {
   "cell_type": "code",
   "execution_count": 4,
   "id": "9e12c611",
   "metadata": {},
   "outputs": [],
   "source": [
    "browser = webdriver.Chrome()\n",
    "\n",
    "link  = 'https://www.youtube.com/@GeeksforGeeksVideos/videos'\n",
    "\n",
    "browser.get(link)"
   ]
  },
  {
   "cell_type": "code",
   "execution_count": 5,
   "id": "a23a959a",
   "metadata": {},
   "outputs": [
    {
     "data": {
      "text/html": [
       "<div>\n",
       "<style scoped>\n",
       "    .dataframe tbody tr th:only-of-type {\n",
       "        vertical-align: middle;\n",
       "    }\n",
       "\n",
       "    .dataframe tbody tr th {\n",
       "        vertical-align: top;\n",
       "    }\n",
       "\n",
       "    .dataframe thead th {\n",
       "        text-align: right;\n",
       "    }\n",
       "</style>\n",
       "<table border=\"1\" class=\"dataframe\">\n",
       "  <thead>\n",
       "    <tr style=\"text-align: right;\">\n",
       "      <th></th>\n",
       "      <th>Unnamed: 0</th>\n",
       "      <th>title</th>\n",
       "      <th>views</th>\n",
       "      <th>data_time</th>\n",
       "      <th>video_link</th>\n",
       "      <th>thumbnail_link</th>\n",
       "    </tr>\n",
       "  </thead>\n",
       "  <tbody>\n",
       "    <tr>\n",
       "      <th>0</th>\n",
       "      <td>0</td>\n",
       "      <td>I went to the House of a Microsoft Software En...</td>\n",
       "      <td>629 views</td>\n",
       "      <td>2 hours ago</td>\n",
       "      <td>https://www.youtube.com/watch?v=nQ-dpHJPS2c</td>\n",
       "      <td>https://i.ytimg.com/vi/nQ-dpHJPS2c/hqdefault.jpg</td>\n",
       "    </tr>\n",
       "    <tr>\n",
       "      <th>1</th>\n",
       "      <td>1</td>\n",
       "      <td>The Only Cyber Security Roadmap you need for 2...</td>\n",
       "      <td>797 views</td>\n",
       "      <td>20 hours ago</td>\n",
       "      <td>https://www.youtube.com/watch?v=0CMNIpd-s_c</td>\n",
       "      <td>https://i.ytimg.com/vi/0CMNIpd-s_c/hqdefault.jpg</td>\n",
       "    </tr>\n",
       "    <tr>\n",
       "      <th>2</th>\n",
       "      <td>2</td>\n",
       "      <td>GeeksforGeeks is going to rock the world of Ed...</td>\n",
       "      <td>1.5K views</td>\n",
       "      <td>2 days ago</td>\n",
       "      <td>https://www.youtube.com/watch?v=Na5zVw3g9So</td>\n",
       "      <td>https://i.ytimg.com/vi/Na5zVw3g9So/hqdefault.jpg</td>\n",
       "    </tr>\n",
       "    <tr>\n",
       "      <th>3</th>\n",
       "      <td>3</td>\n",
       "      <td>How to get a job in MAANG as a College Student...</td>\n",
       "      <td>3.7K views</td>\n",
       "      <td>2 days ago</td>\n",
       "      <td>https://www.youtube.com/watch?v=dE-MlQnCT78</td>\n",
       "      <td>https://i.ytimg.com/vi/dE-MlQnCT78/hqdefault.jpg</td>\n",
       "    </tr>\n",
       "    <tr>\n",
       "      <th>4</th>\n",
       "      <td>4</td>\n",
       "      <td>Get your Dream Internship in the First Year of...</td>\n",
       "      <td>764 views</td>\n",
       "      <td>3 days ago</td>\n",
       "      <td>https://www.youtube.com/watch?v=89A8dNvjLYw</td>\n",
       "      <td>https://i.ytimg.com/vi/89A8dNvjLYw/hqdefault.jpg</td>\n",
       "    </tr>\n",
       "  </tbody>\n",
       "</table>\n",
       "</div>"
      ],
      "text/plain": [
       "   Unnamed: 0                                              title       views  \\\n",
       "0           0  I went to the House of a Microsoft Software En...   629 views   \n",
       "1           1  The Only Cyber Security Roadmap you need for 2...   797 views   \n",
       "2           2  GeeksforGeeks is going to rock the world of Ed...  1.5K views   \n",
       "3           3  How to get a job in MAANG as a College Student...  3.7K views   \n",
       "4           4  Get your Dream Internship in the First Year of...   764 views   \n",
       "\n",
       "      data_time                                   video_link  \\\n",
       "0   2 hours ago  https://www.youtube.com/watch?v=nQ-dpHJPS2c   \n",
       "1  20 hours ago  https://www.youtube.com/watch?v=0CMNIpd-s_c   \n",
       "2    2 days ago  https://www.youtube.com/watch?v=Na5zVw3g9So   \n",
       "3    2 days ago  https://www.youtube.com/watch?v=dE-MlQnCT78   \n",
       "4    3 days ago  https://www.youtube.com/watch?v=89A8dNvjLYw   \n",
       "\n",
       "                                     thumbnail_link  \n",
       "0  https://i.ytimg.com/vi/nQ-dpHJPS2c/hqdefault.jpg  \n",
       "1  https://i.ytimg.com/vi/0CMNIpd-s_c/hqdefault.jpg  \n",
       "2  https://i.ytimg.com/vi/Na5zVw3g9So/hqdefault.jpg  \n",
       "3  https://i.ytimg.com/vi/dE-MlQnCT78/hqdefault.jpg  \n",
       "4  https://i.ytimg.com/vi/89A8dNvjLYw/hqdefault.jpg  "
      ]
     },
     "execution_count": 5,
     "metadata": {},
     "output_type": "execute_result"
    }
   ],
   "source": [
    "df = pd.read_csv('Youtube_gfg.csv')\n",
    "\n",
    "df.head()"
   ]
  },
  {
   "cell_type": "code",
   "execution_count": 27,
   "id": "49aad3ef",
   "metadata": {},
   "outputs": [],
   "source": [
    "for link in df['video_link']:\n",
    "    \n",
    "    link = link\n",
    "    browser.get(link)\n",
    "    break"
   ]
  },
  {
   "cell_type": "code",
   "execution_count": 34,
   "id": "0dae368b",
   "metadata": {},
   "outputs": [],
   "source": [
    "soup = BeautifulSoup(browser.page_source , 'html.parser')\n",
    "\n",
    "views       = soup.find('span' , class_ = 'view-count style-scope ytd-video-view-count-renderer').text\n",
    "title_video =  soup.find_all('yt-formatted-string' , class_ = 'style-scope ytd-video-primary-info-renderer')[0].text\n",
    "date_time   = soup.find_all('yt-formatted-string' , class_ = 'style-scope ytd-video-primary-info-renderer')[1].text\n"
   ]
  },
  {
   "cell_type": "code",
   "execution_count": 35,
   "id": "d99dd262",
   "metadata": {},
   "outputs": [
    {
     "data": {
      "text/plain": [
       "'3,819 views'"
      ]
     },
     "execution_count": 35,
     "metadata": {},
     "output_type": "execute_result"
    }
   ],
   "source": [
    "views"
   ]
  },
  {
   "cell_type": "code",
   "execution_count": 26,
   "id": "043f6944",
   "metadata": {},
   "outputs": [
    {
     "data": {
      "text/plain": [
       "'I went to the House of a Microsoft Software Engineer | Resume Revealed |SDE Roadmap, Salary, Perks'"
      ]
     },
     "execution_count": 26,
     "metadata": {},
     "output_type": "execute_result"
    }
   ],
   "source": [
    "title_video"
   ]
  },
  {
   "cell_type": "code",
   "execution_count": 41,
   "id": "0146a16f",
   "metadata": {},
   "outputs": [
    {
     "data": {
      "text/plain": [
       "<div aria-hidden=\"true\" class=\"yt-spec-touch-feedback-shape yt-spec-touch-feedback-shape--touch-response\"><div class=\"yt-spec-touch-feedback-shape__stroke\" style=\"\"></div><div class=\"yt-spec-touch-feedback-shape__fill\" style=\"\"></div></div>"
      ]
     },
     "execution_count": 41,
     "metadata": {},
     "output_type": "execute_result"
    }
   ],
   "source": [
    "soup.find('div', class_ = 'yt-spec-touch-feedback-shape yt-spec-touch-feedback-shape--touch-response')"
   ]
  },
  {
   "cell_type": "code",
   "execution_count": null,
   "id": "bb2cb9fe",
   "metadata": {},
   "outputs": [],
   "source": []
  },
  {
   "cell_type": "code",
   "execution_count": null,
   "id": "75860b7e",
   "metadata": {},
   "outputs": [],
   "source": []
  },
  {
   "cell_type": "code",
   "execution_count": 46,
   "id": "0403c3df",
   "metadata": {},
   "outputs": [
    {
     "name": "stderr",
     "output_type": "stream",
     "text": [
      " 67%|█████████████████████████████████████████████████▍                        | 1314/1968 [2:49:48<1:24:31,  7.75s/it]\n"
     ]
    },
    {
     "ename": "WebDriverException",
     "evalue": "Message: disconnected: not connected to DevTools\n  (failed to check if window was closed: disconnected: not connected to DevTools)\n  (Session info: chrome=131.0.6778.205)\nStacktrace:\n\tGetHandleVerifier [0x00007FF7AB4FFB05+28789]\n\t(No symbol) [0x00007FF7AB4686E0]\n\t(No symbol) [0x00007FF7AB30592A]\n\t(No symbol) [0x00007FF7AB2F230C]\n\t(No symbol) [0x00007FF7AB2F21D0]\n\t(No symbol) [0x00007FF7AB3082D1]\n\t(No symbol) [0x00007FF7AB39EF72]\n\t(No symbol) [0x00007FF7AB37F1E3]\n\t(No symbol) [0x00007FF7AB34A938]\n\t(No symbol) [0x00007FF7AB34BAA1]\n\tGetHandleVerifier [0x00007FF7AB83933D+3410093]\n\tGetHandleVerifier [0x00007FF7AB84E7DD+3497293]\n\tGetHandleVerifier [0x00007FF7AB842A73+3448803]\n\tGetHandleVerifier [0x00007FF7AB5C7BBB+848171]\n\t(No symbol) [0x00007FF7AB473C3F]\n\t(No symbol) [0x00007FF7AB46F6E4]\n\t(No symbol) [0x00007FF7AB46F87D]\n\t(No symbol) [0x00007FF7AB45ED49]\n\tBaseThreadInitThunk [0x00007FFAE70A259D+29]\n\tRtlUserThreadStart [0x00007FFAE87AAF38+40]\n",
     "output_type": "error",
     "traceback": [
      "\u001b[1;31m---------------------------------------------------------------------------\u001b[0m",
      "\u001b[1;31mWebDriverException\u001b[0m                        Traceback (most recent call last)",
      "Cell \u001b[1;32mIn[46], line 14\u001b[0m\n\u001b[0;32m     10\u001b[0m browser\u001b[38;5;241m.\u001b[39mget(link)\n\u001b[0;32m     12\u001b[0m time\u001b[38;5;241m.\u001b[39msleep(\u001b[38;5;241m5\u001b[39m)\n\u001b[1;32m---> 14\u001b[0m soup \u001b[38;5;241m=\u001b[39m BeautifulSoup(browser\u001b[38;5;241m.\u001b[39mpage_source, \u001b[38;5;124m'\u001b[39m\u001b[38;5;124mhtml.parser\u001b[39m\u001b[38;5;124m'\u001b[39m)\n\u001b[0;32m     16\u001b[0m \u001b[38;5;28;01mtry\u001b[39;00m:\n\u001b[0;32m     17\u001b[0m     title \u001b[38;5;241m=\u001b[39m soup\u001b[38;5;241m.\u001b[39mfind_all(\u001b[38;5;124m'\u001b[39m\u001b[38;5;124myt-formatted-string\u001b[39m\u001b[38;5;124m'\u001b[39m, class_ \u001b[38;5;241m=\u001b[39m \u001b[38;5;124m'\u001b[39m\u001b[38;5;124mstyle-scope ytd-video-primary-info-renderer\u001b[39m\u001b[38;5;124m'\u001b[39m)[\u001b[38;5;241m0\u001b[39m]\u001b[38;5;241m.\u001b[39mtext\n",
      "File \u001b[1;32m~\\anaconda3\\Lib\\site-packages\\selenium\\webdriver\\remote\\webdriver.py:485\u001b[0m, in \u001b[0;36mWebDriver.page_source\u001b[1;34m(self)\u001b[0m\n\u001b[0;32m    476\u001b[0m \u001b[38;5;129m@property\u001b[39m\n\u001b[0;32m    477\u001b[0m \u001b[38;5;28;01mdef\u001b[39;00m \u001b[38;5;21mpage_source\u001b[39m(\u001b[38;5;28mself\u001b[39m) \u001b[38;5;241m-\u001b[39m\u001b[38;5;241m>\u001b[39m \u001b[38;5;28mstr\u001b[39m:\n\u001b[0;32m    478\u001b[0m \u001b[38;5;250m    \u001b[39m\u001b[38;5;124;03m\"\"\"Gets the source of the current page.\u001b[39;00m\n\u001b[0;32m    479\u001b[0m \n\u001b[0;32m    480\u001b[0m \u001b[38;5;124;03m    :Usage:\u001b[39;00m\n\u001b[1;32m   (...)\u001b[0m\n\u001b[0;32m    483\u001b[0m \u001b[38;5;124;03m            driver.page_source\u001b[39;00m\n\u001b[0;32m    484\u001b[0m \u001b[38;5;124;03m    \"\"\"\u001b[39;00m\n\u001b[1;32m--> 485\u001b[0m     \u001b[38;5;28;01mreturn\u001b[39;00m \u001b[38;5;28mself\u001b[39m\u001b[38;5;241m.\u001b[39mexecute(Command\u001b[38;5;241m.\u001b[39mGET_PAGE_SOURCE)[\u001b[38;5;124m\"\u001b[39m\u001b[38;5;124mvalue\u001b[39m\u001b[38;5;124m\"\u001b[39m]\n",
      "File \u001b[1;32m~\\anaconda3\\Lib\\site-packages\\selenium\\webdriver\\remote\\webdriver.py:384\u001b[0m, in \u001b[0;36mWebDriver.execute\u001b[1;34m(self, driver_command, params)\u001b[0m\n\u001b[0;32m    382\u001b[0m response \u001b[38;5;241m=\u001b[39m \u001b[38;5;28mself\u001b[39m\u001b[38;5;241m.\u001b[39mcommand_executor\u001b[38;5;241m.\u001b[39mexecute(driver_command, params)\n\u001b[0;32m    383\u001b[0m \u001b[38;5;28;01mif\u001b[39;00m response:\n\u001b[1;32m--> 384\u001b[0m     \u001b[38;5;28mself\u001b[39m\u001b[38;5;241m.\u001b[39merror_handler\u001b[38;5;241m.\u001b[39mcheck_response(response)\n\u001b[0;32m    385\u001b[0m     response[\u001b[38;5;124m\"\u001b[39m\u001b[38;5;124mvalue\u001b[39m\u001b[38;5;124m\"\u001b[39m] \u001b[38;5;241m=\u001b[39m \u001b[38;5;28mself\u001b[39m\u001b[38;5;241m.\u001b[39m_unwrap_value(response\u001b[38;5;241m.\u001b[39mget(\u001b[38;5;124m\"\u001b[39m\u001b[38;5;124mvalue\u001b[39m\u001b[38;5;124m\"\u001b[39m, \u001b[38;5;28;01mNone\u001b[39;00m))\n\u001b[0;32m    386\u001b[0m     \u001b[38;5;28;01mreturn\u001b[39;00m response\n",
      "File \u001b[1;32m~\\anaconda3\\Lib\\site-packages\\selenium\\webdriver\\remote\\errorhandler.py:232\u001b[0m, in \u001b[0;36mErrorHandler.check_response\u001b[1;34m(self, response)\u001b[0m\n\u001b[0;32m    230\u001b[0m         alert_text \u001b[38;5;241m=\u001b[39m value[\u001b[38;5;124m\"\u001b[39m\u001b[38;5;124malert\u001b[39m\u001b[38;5;124m\"\u001b[39m]\u001b[38;5;241m.\u001b[39mget(\u001b[38;5;124m\"\u001b[39m\u001b[38;5;124mtext\u001b[39m\u001b[38;5;124m\"\u001b[39m)\n\u001b[0;32m    231\u001b[0m     \u001b[38;5;28;01mraise\u001b[39;00m exception_class(message, screen, stacktrace, alert_text)  \u001b[38;5;66;03m# type: ignore[call-arg]  # mypy is not smart enough here\u001b[39;00m\n\u001b[1;32m--> 232\u001b[0m \u001b[38;5;28;01mraise\u001b[39;00m exception_class(message, screen, stacktrace)\n",
      "\u001b[1;31mWebDriverException\u001b[0m: Message: disconnected: not connected to DevTools\n  (failed to check if window was closed: disconnected: not connected to DevTools)\n  (Session info: chrome=131.0.6778.205)\nStacktrace:\n\tGetHandleVerifier [0x00007FF7AB4FFB05+28789]\n\t(No symbol) [0x00007FF7AB4686E0]\n\t(No symbol) [0x00007FF7AB30592A]\n\t(No symbol) [0x00007FF7AB2F230C]\n\t(No symbol) [0x00007FF7AB2F21D0]\n\t(No symbol) [0x00007FF7AB3082D1]\n\t(No symbol) [0x00007FF7AB39EF72]\n\t(No symbol) [0x00007FF7AB37F1E3]\n\t(No symbol) [0x00007FF7AB34A938]\n\t(No symbol) [0x00007FF7AB34BAA1]\n\tGetHandleVerifier [0x00007FF7AB83933D+3410093]\n\tGetHandleVerifier [0x00007FF7AB84E7DD+3497293]\n\tGetHandleVerifier [0x00007FF7AB842A73+3448803]\n\tGetHandleVerifier [0x00007FF7AB5C7BBB+848171]\n\t(No symbol) [0x00007FF7AB473C3F]\n\t(No symbol) [0x00007FF7AB46F6E4]\n\t(No symbol) [0x00007FF7AB46F87D]\n\t(No symbol) [0x00007FF7AB45ED49]\n\tBaseThreadInitThunk [0x00007FFAE70A259D+29]\n\tRtlUserThreadStart [0x00007FFAE87AAF38+40]\n"
     ]
    }
   ],
   "source": [
    "browser = webdriver.Chrome()\n",
    "browser.get('https://www.youtube.com')\n",
    "time.sleep(2)\n",
    "\n",
    "data = []\n",
    "\n",
    "for link in tqdm(df['video_link']):\n",
    "    \n",
    "    link = link\n",
    "    browser.get(link)\n",
    "    \n",
    "    time.sleep(5)\n",
    "    \n",
    "    soup = BeautifulSoup(browser.page_source, 'html.parser')\n",
    "\n",
    "    try:\n",
    "        title = soup.find_all('yt-formatted-string', class_ = 'style-scope ytd-video-primary-info-renderer')[0].text\n",
    "    except:\n",
    "        title = np.nan\n",
    "    \n",
    "    try:\n",
    "        view = soup.find('span' , class_ = 'view-count style-scope ytd-video-view-count-renderer').text\n",
    "    except:\n",
    "        view = np.nan\n",
    "        \n",
    "    try:\n",
    "        date_time = soup.find_all('yt-formatted-string', class_ = 'style-scope ytd-video-primary-info-renderer')[1].text\n",
    "    except:\n",
    "        date_time = np.nan\n",
    "    \n",
    "    try:\n",
    "        like = soup.find('yt-formatted-string', class_ = 'style-scope ytd-toggle-button-renderer style-text').text\n",
    "    except:\n",
    "        like = np.nan\n",
    "      \n",
    "    try:\n",
    "        description = soup.find('yt-formatted-string', class_ = 'content style-scope ytd-video-secondary-info-renderer').text\n",
    "    except:\n",
    "        description = np.nan\n",
    "        \n",
    "    data.append([title , date_time, like, view, link, description])"
   ]
  },
  {
   "cell_type": "code",
   "execution_count": 51,
   "id": "83600669",
   "metadata": {},
   "outputs": [
    {
     "data": {
      "text/plain": [
       "1314"
      ]
     },
     "execution_count": 51,
     "metadata": {},
     "output_type": "execute_result"
    }
   ],
   "source": [
    "len(data)"
   ]
  },
  {
   "cell_type": "code",
   "execution_count": 52,
   "id": "f97e9b51",
   "metadata": {},
   "outputs": [],
   "source": [
    "df = pd.DataFrame(data , columns=['title', 'date_time', 'like', 'view', 'link', 'description'])"
   ]
  },
  {
   "cell_type": "code",
   "execution_count": 53,
   "id": "1e181641",
   "metadata": {},
   "outputs": [
    {
     "data": {
      "text/html": [
       "<div>\n",
       "<style scoped>\n",
       "    .dataframe tbody tr th:only-of-type {\n",
       "        vertical-align: middle;\n",
       "    }\n",
       "\n",
       "    .dataframe tbody tr th {\n",
       "        vertical-align: top;\n",
       "    }\n",
       "\n",
       "    .dataframe thead th {\n",
       "        text-align: right;\n",
       "    }\n",
       "</style>\n",
       "<table border=\"1\" class=\"dataframe\">\n",
       "  <thead>\n",
       "    <tr style=\"text-align: right;\">\n",
       "      <th></th>\n",
       "      <th>title</th>\n",
       "      <th>date_time</th>\n",
       "      <th>like</th>\n",
       "      <th>view</th>\n",
       "      <th>link</th>\n",
       "      <th>description</th>\n",
       "    </tr>\n",
       "  </thead>\n",
       "  <tbody>\n",
       "    <tr>\n",
       "      <th>0</th>\n",
       "      <td>I went to the House of a Microsoft Software En...</td>\n",
       "      <td>Dec 31, 2024</td>\n",
       "      <td>NaN</td>\n",
       "      <td>3,822 views</td>\n",
       "      <td>https://www.youtube.com/watch?v=nQ-dpHJPS2c</td>\n",
       "      <td>NaN</td>\n",
       "    </tr>\n",
       "    <tr>\n",
       "      <th>1</th>\n",
       "      <td>The Only Cyber Security Roadmap you need for 2...</td>\n",
       "      <td>Dec 30, 2024</td>\n",
       "      <td>NaN</td>\n",
       "      <td>2,130 views</td>\n",
       "      <td>https://www.youtube.com/watch?v=0CMNIpd-s_c</td>\n",
       "      <td>NaN</td>\n",
       "    </tr>\n",
       "    <tr>\n",
       "      <th>2</th>\n",
       "      <td>NaN</td>\n",
       "      <td>NaN</td>\n",
       "      <td>NaN</td>\n",
       "      <td>NaN</td>\n",
       "      <td>https://www.youtube.com/watch?v=Na5zVw3g9So</td>\n",
       "      <td>NaN</td>\n",
       "    </tr>\n",
       "    <tr>\n",
       "      <th>3</th>\n",
       "      <td>NaN</td>\n",
       "      <td>NaN</td>\n",
       "      <td>NaN</td>\n",
       "      <td>NaN</td>\n",
       "      <td>https://www.youtube.com/watch?v=dE-MlQnCT78</td>\n",
       "      <td>NaN</td>\n",
       "    </tr>\n",
       "    <tr>\n",
       "      <th>4</th>\n",
       "      <td>NaN</td>\n",
       "      <td>NaN</td>\n",
       "      <td>NaN</td>\n",
       "      <td>NaN</td>\n",
       "      <td>https://www.youtube.com/watch?v=89A8dNvjLYw</td>\n",
       "      <td>NaN</td>\n",
       "    </tr>\n",
       "    <tr>\n",
       "      <th>...</th>\n",
       "      <td>...</td>\n",
       "      <td>...</td>\n",
       "      <td>...</td>\n",
       "      <td>...</td>\n",
       "      <td>...</td>\n",
       "      <td>...</td>\n",
       "    </tr>\n",
       "    <tr>\n",
       "      <th>1309</th>\n",
       "      <td>NaN</td>\n",
       "      <td>NaN</td>\n",
       "      <td>NaN</td>\n",
       "      <td>NaN</td>\n",
       "      <td>https://www.youtube.com/watch?v=KXfok9IiVHQ</td>\n",
       "      <td>NaN</td>\n",
       "    </tr>\n",
       "    <tr>\n",
       "      <th>1310</th>\n",
       "      <td>NaN</td>\n",
       "      <td>NaN</td>\n",
       "      <td>NaN</td>\n",
       "      <td>NaN</td>\n",
       "      <td>https://www.youtube.com/watch?v=54avWHVxDwg</td>\n",
       "      <td>NaN</td>\n",
       "    </tr>\n",
       "    <tr>\n",
       "      <th>1311</th>\n",
       "      <td>NaN</td>\n",
       "      <td>NaN</td>\n",
       "      <td>NaN</td>\n",
       "      <td>NaN</td>\n",
       "      <td>https://www.youtube.com/watch?v=teTH3Vmv7A0</td>\n",
       "      <td>NaN</td>\n",
       "    </tr>\n",
       "    <tr>\n",
       "      <th>1312</th>\n",
       "      <td>NaN</td>\n",
       "      <td>NaN</td>\n",
       "      <td>NaN</td>\n",
       "      <td>NaN</td>\n",
       "      <td>https://www.youtube.com/watch?v=hi7iWar5fzQ</td>\n",
       "      <td>NaN</td>\n",
       "    </tr>\n",
       "    <tr>\n",
       "      <th>1313</th>\n",
       "      <td>NaN</td>\n",
       "      <td>NaN</td>\n",
       "      <td>NaN</td>\n",
       "      <td>NaN</td>\n",
       "      <td>https://www.youtube.com/watch?v=iNCLqZkxl_k</td>\n",
       "      <td>NaN</td>\n",
       "    </tr>\n",
       "  </tbody>\n",
       "</table>\n",
       "<p>1314 rows × 6 columns</p>\n",
       "</div>"
      ],
      "text/plain": [
       "                                                  title     date_time  like  \\\n",
       "0     I went to the House of a Microsoft Software En...  Dec 31, 2024   NaN   \n",
       "1     The Only Cyber Security Roadmap you need for 2...  Dec 30, 2024   NaN   \n",
       "2                                                   NaN           NaN   NaN   \n",
       "3                                                   NaN           NaN   NaN   \n",
       "4                                                   NaN           NaN   NaN   \n",
       "...                                                 ...           ...   ...   \n",
       "1309                                                NaN           NaN   NaN   \n",
       "1310                                                NaN           NaN   NaN   \n",
       "1311                                                NaN           NaN   NaN   \n",
       "1312                                                NaN           NaN   NaN   \n",
       "1313                                                NaN           NaN   NaN   \n",
       "\n",
       "             view                                         link  description  \n",
       "0     3,822 views  https://www.youtube.com/watch?v=nQ-dpHJPS2c          NaN  \n",
       "1     2,130 views  https://www.youtube.com/watch?v=0CMNIpd-s_c          NaN  \n",
       "2             NaN  https://www.youtube.com/watch?v=Na5zVw3g9So          NaN  \n",
       "3             NaN  https://www.youtube.com/watch?v=dE-MlQnCT78          NaN  \n",
       "4             NaN  https://www.youtube.com/watch?v=89A8dNvjLYw          NaN  \n",
       "...           ...                                          ...          ...  \n",
       "1309          NaN  https://www.youtube.com/watch?v=KXfok9IiVHQ          NaN  \n",
       "1310          NaN  https://www.youtube.com/watch?v=54avWHVxDwg          NaN  \n",
       "1311          NaN  https://www.youtube.com/watch?v=teTH3Vmv7A0          NaN  \n",
       "1312          NaN  https://www.youtube.com/watch?v=hi7iWar5fzQ          NaN  \n",
       "1313          NaN  https://www.youtube.com/watch?v=iNCLqZkxl_k          NaN  \n",
       "\n",
       "[1314 rows x 6 columns]"
      ]
     },
     "execution_count": 53,
     "metadata": {},
     "output_type": "execute_result"
    }
   ],
   "source": [
    "df"
   ]
  },
  {
   "cell_type": "code",
   "execution_count": 57,
   "id": "2f52776b",
   "metadata": {},
   "outputs": [
    {
     "data": {
      "text/plain": [
       "title            0\n",
       "date_time        0\n",
       "like           0.0\n",
       "view             0\n",
       "link             0\n",
       "description    0.0\n",
       "dtype: object"
      ]
     },
     "execution_count": 57,
     "metadata": {},
     "output_type": "execute_result"
    }
   ],
   "source": [
    "df.dropna().sum()"
   ]
  },
  {
   "cell_type": "code",
   "execution_count": 58,
   "id": "e6a17f4e",
   "metadata": {},
   "outputs": [
    {
     "data": {
      "text/plain": [
       "title           667\n",
       "date_time       667\n",
       "like           1314\n",
       "view            667\n",
       "link              0\n",
       "description    1314\n",
       "dtype: int64"
      ]
     },
     "execution_count": 58,
     "metadata": {},
     "output_type": "execute_result"
    }
   ],
   "source": [
    "df.isna().sum()"
   ]
  },
  {
   "cell_type": "code",
   "execution_count": null,
   "id": "60189ead",
   "metadata": {},
   "outputs": [],
   "source": []
  }
 ],
 "metadata": {
  "kernelspec": {
   "display_name": "Python 3 (ipykernel)",
   "language": "python",
   "name": "python3"
  },
  "language_info": {
   "codemirror_mode": {
    "name": "ipython",
    "version": 3
   },
   "file_extension": ".py",
   "mimetype": "text/x-python",
   "name": "python",
   "nbconvert_exporter": "python",
   "pygments_lexer": "ipython3",
   "version": "3.11.7"
  }
 },
 "nbformat": 4,
 "nbformat_minor": 5
}
