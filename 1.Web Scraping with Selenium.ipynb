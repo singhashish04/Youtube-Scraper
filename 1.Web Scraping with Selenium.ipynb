{
 "cells": [
  {
   "cell_type": "code",
   "execution_count": 1,
   "id": "15302a5a",
   "metadata": {},
   "outputs": [],
   "source": [
    "from selenium import webdriver\n",
    "from bs4 import BeautifulSoup"
   ]
  },
  {
   "cell_type": "code",
   "execution_count": 12,
   "id": "8c68af4e",
   "metadata": {},
   "outputs": [],
   "source": [
    "browser = webdriver.Chrome()\n",
    "\n",
    "browser.get('https://www.youtube.com/@GeeksforGeeksVideos/videos')"
   ]
  },
  {
   "cell_type": "code",
   "execution_count": 16,
   "id": "3a6e26d6",
   "metadata": {},
   "outputs": [],
   "source": [
    "soup = BeautifulSoup(browser.page_source , 'html.parser')"
   ]
  },
  {
   "cell_type": "code",
   "execution_count": 25,
   "id": "583c1191",
   "metadata": {},
   "outputs": [],
   "source": [
    "sp = soup.find('ytd-rich-grid-renderer')"
   ]
  },
  {
   "cell_type": "code",
   "execution_count": 30,
   "id": "752d1165",
   "metadata": {},
   "outputs": [
    {
     "data": {
      "text/plain": [
       "'\\n\\n9:52\\n    9:52\\n  Now playing\\n\\n\\n\\n\\n\\n\\n\\n\\n\\n\\n\\n\\n\\n\\n\\n9:52\\n9:52\\n    9:52\\n  Now playing\\n\\n\\n\\n\\n\\n\\n\\n\\n\\n\\n\\nGet your Dream Internship in the First Year of College | Step by Step Guide\\n\\n\\n\\n\\n\\n\\n\\n\\n\\n\\n\\n  Verified\\n\\n\\n\\n•\\n\\n\\n\\n\\n•\\n732 views\\n3 days ago\\n\\n\\n\\n\\n\\n\\n\\n\\n'"
      ]
     },
     "execution_count": 30,
     "metadata": {},
     "output_type": "execute_result"
    }
   ],
   "source": [
    "sp.find_all('ytd-rich-item-renderer')[3].text"
   ]
  },
  {
   "cell_type": "code",
   "execution_count": null,
   "id": "e197b2cb",
   "metadata": {},
   "outputs": [],
   "source": []
  }
 ],
 "metadata": {
  "kernelspec": {
   "display_name": "Python 3 (ipykernel)",
   "language": "python",
   "name": "python3"
  },
  "language_info": {
   "codemirror_mode": {
    "name": "ipython",
    "version": 3
   },
   "file_extension": ".py",
   "mimetype": "text/x-python",
   "name": "python",
   "nbconvert_exporter": "python",
   "pygments_lexer": "ipython3",
   "version": "3.11.7"
  }
 },
 "nbformat": 4,
 "nbformat_minor": 5
}
