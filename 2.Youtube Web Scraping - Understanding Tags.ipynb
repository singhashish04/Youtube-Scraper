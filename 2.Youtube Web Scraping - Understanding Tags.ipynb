{
 "cells": [
  {
   "cell_type": "code",
   "execution_count": 1,
   "id": "6c4752f2",
   "metadata": {},
   "outputs": [],
   "source": [
    "import numpy as np\n",
    "import pandas as pd\n",
    "\n",
    "from selenium import webdriver\n",
    "from bs4 import BeautifulSoup"
   ]
  },
  {
   "cell_type": "code",
   "execution_count": 26,
   "id": "11189171",
   "metadata": {},
   "outputs": [],
   "source": [
    "browser = webdriver.Chrome()\n",
    "\n",
    "browser.get('https://www.youtube.com/@GeeksforGeeksVideos/videos')"
   ]
  },
  {
   "cell_type": "code",
   "execution_count": 27,
   "id": "515e6565",
   "metadata": {},
   "outputs": [],
   "source": [
    "soup = BeautifulSoup(browser.page_source , 'html.parser')       # refresh "
   ]
  },
  {
   "cell_type": "code",
   "execution_count": 57,
   "id": "b7fda0bb",
   "metadata": {},
   "outputs": [],
   "source": [
    "# soup = soup.find('ytd-rich-grid-renderer')"
   ]
  },
  {
   "cell_type": "code",
   "execution_count": 60,
   "id": "50ed19a2",
   "metadata": {},
   "outputs": [],
   "source": [
    "# soup = sp.find_all('ytd-rich-item-renderer')"
   ]
  },
  {
   "cell_type": "code",
   "execution_count": 28,
   "id": "980e1992",
   "metadata": {},
   "outputs": [],
   "source": [
    "data = []\n",
    "\n",
    "for sp in soup.find_all('ytd-rich-item-renderer'):\n",
    "\n",
    "    title = sp.find('a' , class_ = 'yt-simple-endpoint focus-on-expand style-scope ytd-rich-grid-media').text\n",
    "\n",
    "    video_link =  'https://www.youtube.com' + sp.find('a' , class_ = 'yt-simple-endpoint focus-on-expand style-scope ytd-rich-grid-media').get('href')\n",
    "\n",
    "    try:\n",
    "        views = sp.find_all('span' , class_ = 'inline-metadata-item style-scope ytd-video-meta-block')[0].text\n",
    "    except:\n",
    "        views = np.nan\n",
    "    try:    \n",
    "        date_time = sp.find_all('span' , class_ = 'inline-metadata-item style-scope ytd-video-meta-block')[1].text\n",
    "    except:    \n",
    "        date_time = np.nan\n",
    "        \n",
    "    try:\n",
    "        thumbnail_link = sp.find('img').get('src').split('?')[0]\n",
    "    except:\n",
    "        thumbnail_link = np.nan\n",
    "        \n",
    "    data.append([title , views, date_time ,video_link , thumbnail_link])"
   ]
  },
  {
   "cell_type": "code",
   "execution_count": 29,
   "id": "68112669",
   "metadata": {},
   "outputs": [
    {
     "data": {
      "text/plain": [
       "30"
      ]
     },
     "execution_count": 29,
     "metadata": {},
     "output_type": "execute_result"
    }
   ],
   "source": [
    "len(data)"
   ]
  },
  {
   "cell_type": "code",
   "execution_count": 30,
   "id": "d02f5445",
   "metadata": {},
   "outputs": [],
   "source": [
    "df =  pd.DataFrame(data , columns=['title' , 'views' , ' data_time' ,'video_link' , 'thumbnail_link'])"
   ]
  },
  {
   "cell_type": "code",
   "execution_count": 105,
   "id": "8dfebcad",
   "metadata": {},
   "outputs": [],
   "source": [
    "df.to_csv('Youtube_gfg.csv')"
   ]
  },
  {
   "cell_type": "code",
   "execution_count": 16,
   "id": "b5ae1224",
   "metadata": {},
   "outputs": [
    {
     "data": {
      "text/plain": [
       "title              0\n",
       "views              0\n",
       " data_time         0\n",
       "video_link         0\n",
       "thumbnail_link    27\n",
       "dtype: int64"
      ]
     },
     "execution_count": 16,
     "metadata": {},
     "output_type": "execute_result"
    }
   ],
   "source": [
    "df.isna().sum()          # its showing thumbnail_link null value bcoz of thumbnail not loaded"
   ]
  },
  {
   "cell_type": "markdown",
   "id": "d00deb93",
   "metadata": {},
   "source": [
    "### Video Data Scraping\n"
   ]
  },
  {
   "cell_type": "code",
   "execution_count": 23,
   "id": "1d162f54",
   "metadata": {},
   "outputs": [
    {
     "name": "stdout",
     "output_type": "stream",
     "text": [
      "https://www.youtube.com/watch?v=nQ-dpHJPS2c\n"
     ]
    }
   ],
   "source": [
    "for link in df['video_link']:\n",
    "    \n",
    "    link = link\n",
    "    browser.get(link)\n",
    "    \n",
    "    break"
   ]
  },
  {
   "cell_type": "code",
   "execution_count": null,
   "id": "d5494f7f",
   "metadata": {},
   "outputs": [],
   "source": []
  }
 ],
 "metadata": {
  "kernelspec": {
   "display_name": "Python 3 (ipykernel)",
   "language": "python",
   "name": "python3"
  },
  "language_info": {
   "codemirror_mode": {
    "name": "ipython",
    "version": 3
   },
   "file_extension": ".py",
   "mimetype": "text/x-python",
   "name": "python",
   "nbconvert_exporter": "python",
   "pygments_lexer": "ipython3",
   "version": "3.11.7"
  }
 },
 "nbformat": 4,
 "nbformat_minor": 5
}
